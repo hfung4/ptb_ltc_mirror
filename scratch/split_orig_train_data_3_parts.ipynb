{
 "cells": [
  {
   "cell_type": "code",
   "execution_count": 2,
   "metadata": {},
   "outputs": [],
   "source": [
    "import pandas as pd\n",
    "import numpy as np\n",
    "from pathlib import Path"
   ]
  },
  {
   "cell_type": "code",
   "execution_count": null,
   "metadata": {},
   "outputs": [],
   "source": [
    "# import raw train and test data from external location (ADLS Gen2 container)\n",
    "raw_train = pd.read_csv(Path('data','raw_data_files','train.csv'))"
   ]
  },
  {
   "cell_type": "code",
   "execution_count": null,
   "metadata": {},
   "outputs": [
    {
     "data": {
      "text/plain": [
       "Target\n",
       "4    5996\n",
       "2    1597\n",
       "3    1209\n",
       "1     755\n",
       "Name: count, dtype: int64"
      ]
     },
     "execution_count": 7,
     "metadata": {},
     "output_type": "execute_result"
    }
   ],
   "source": [
    "raw_train"
   ]
  },
  {
   "cell_type": "markdown",
   "metadata": {},
   "source": [
    "### Split train data into 3 equal parts, stratified by the outcome variable"
   ]
  },
  {
   "cell_type": "code",
   "execution_count": 8,
   "metadata": {},
   "outputs": [],
   "source": [
    "import pandas as pd\n",
    "\n",
    "# Group by the target variable to ensure stratification\n",
    "grouped = raw_train.groupby('Target')\n",
    "\n",
    "# Containers for the splits\n",
    "split_1 = []\n",
    "split_2 = []\n",
    "split_3 = []\n",
    "\n",
    "# Stratified splitting\n",
    "for _, group in grouped:\n",
    "    group = group.sample(frac=1, random_state=42)  # Shuffle within each class\n",
    "    \n",
    "    n_total = len(group)\n",
    "    n_split = n_total // 3  # Size of each split\n",
    "    \n",
    "    # Divide into 3 equal parts\n",
    "    part_1 = group.iloc[:n_split]\n",
    "    part_2 = group.iloc[n_split:2 * n_split]\n",
    "    part_3 = group.iloc[2 * n_split:]\n",
    "    \n",
    "    split_1.append(part_1)\n",
    "    split_2.append(part_2)\n",
    "    split_3.append(part_3)\n",
    "\n",
    "# Concatenate the splits from all classes\n",
    "split_1 = pd.concat(split_1)\n",
    "split_2 = pd.concat(split_2)\n",
    "split_3 = pd.concat(split_3)\n",
    "\n",
    "# Shuffle the splits to ensure randomness\n",
    "split_1 = split_1.sample(frac=1, random_state=42).reset_index(drop=True)\n",
    "split_2 = split_2.sample(frac=1, random_state=42).reset_index(drop=True)\n",
    "split_3 = split_3.sample(frac=1, random_state=42).reset_index(drop=True)"
   ]
  },
  {
   "cell_type": "markdown",
   "metadata": {},
   "source": [
    "### Examine the splits"
   ]
  },
  {
   "cell_type": "code",
   "execution_count": 11,
   "metadata": {},
   "outputs": [
    {
     "data": {
      "text/plain": [
       "(3184, 143)"
      ]
     },
     "execution_count": 11,
     "metadata": {},
     "output_type": "execute_result"
    }
   ],
   "source": [
    "split_1.shape"
   ]
  },
  {
   "cell_type": "code",
   "execution_count": 10,
   "metadata": {},
   "outputs": [
    {
     "data": {
      "text/plain": [
       "Target\n",
       "4    1998\n",
       "2     532\n",
       "3     403\n",
       "1     251\n",
       "Name: count, dtype: int64"
      ]
     },
     "execution_count": 10,
     "metadata": {},
     "output_type": "execute_result"
    }
   ],
   "source": [
    "split_1.Target.value_counts()"
   ]
  },
  {
   "cell_type": "code",
   "execution_count": 12,
   "metadata": {},
   "outputs": [
    {
     "data": {
      "text/plain": [
       "(3184, 143)"
      ]
     },
     "execution_count": 12,
     "metadata": {},
     "output_type": "execute_result"
    }
   ],
   "source": [
    "split_2.shape"
   ]
  },
  {
   "cell_type": "code",
   "execution_count": 13,
   "metadata": {},
   "outputs": [
    {
     "data": {
      "text/plain": [
       "Target\n",
       "4    1998\n",
       "2     532\n",
       "3     403\n",
       "1     251\n",
       "Name: count, dtype: int64"
      ]
     },
     "execution_count": 13,
     "metadata": {},
     "output_type": "execute_result"
    }
   ],
   "source": [
    "split_2.Target.value_counts()"
   ]
  },
  {
   "cell_type": "code",
   "execution_count": 15,
   "metadata": {},
   "outputs": [
    {
     "data": {
      "text/plain": [
       "(3189, 143)"
      ]
     },
     "execution_count": 15,
     "metadata": {},
     "output_type": "execute_result"
    }
   ],
   "source": [
    "split_3.shape"
   ]
  },
  {
   "cell_type": "code",
   "execution_count": 14,
   "metadata": {},
   "outputs": [
    {
     "data": {
      "text/plain": [
       "Target\n",
       "4    2000\n",
       "2     533\n",
       "3     403\n",
       "1     253\n",
       "Name: count, dtype: int64"
      ]
     },
     "execution_count": 14,
     "metadata": {},
     "output_type": "execute_result"
    }
   ],
   "source": [
    "split_3.Target.value_counts()"
   ]
  },
  {
   "cell_type": "markdown",
   "metadata": {},
   "source": [
    "### Write data"
   ]
  },
  {
   "cell_type": "code",
   "execution_count": null,
   "metadata": {},
   "outputs": [],
   "source": [
    "split_1.to_csv(Path('data','raw_data_files','train_1.csv'), index=False)\n",
    "split_2.to_csv(Path('data','raw_data_files','train_2.csv'), index=False)\n",
    "split_3.to_csv(Path('data','raw_data_files','train_3.csv'), index=False)"
   ]
  }
 ],
 "metadata": {
  "kernelspec": {
   "display_name": ".ltc_env",
   "language": "python",
   "name": "python3"
  },
  "language_info": {
   "codemirror_mode": {
    "name": "ipython",
    "version": 3
   },
   "file_extension": ".py",
   "mimetype": "text/x-python",
   "name": "python",
   "nbconvert_exporter": "python",
   "pygments_lexer": "ipython3",
   "version": "3.11.0"
  }
 },
 "nbformat": 4,
 "nbformat_minor": 2
}

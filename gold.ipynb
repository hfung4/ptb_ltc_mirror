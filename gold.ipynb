{
 "cells": [
  {
   "cell_type": "code",
   "execution_count": 40,
   "metadata": {},
   "outputs": [],
   "source": [
    "import pandas as pd\n",
    "import numpy as np\n",
    "from pathlib import Path\n",
    "from ptb_ltc.config.core import config\n",
    "from ptb_ltc.processing.processing_utils import(\n",
    "    feature_engineering_hh,\n",
    "    feature_engineering_ind\n",
    ")"
   ]
  },
  {
   "cell_type": "markdown",
   "metadata": {},
   "source": [
    "### ETL for gold data"
   ]
  },
  {
   "cell_type": "code",
   "execution_count": 41,
   "metadata": {},
   "outputs": [],
   "source": [
    "# Load\n",
    "silver = pd.read_csv(Path('data','silver.csv'))"
   ]
  },
  {
   "cell_type": "code",
   "execution_count": 42,
   "metadata": {},
   "outputs": [],
   "source": [
    "# Feature engineering and selection for household-level variables\n",
    "heads = feature_engineering_hh(silver)\n",
    "# Feature engineering and selection of individual-level variables\n",
    "ind = feature_engineering_ind(silver)"
   ]
  },
  {
   "cell_type": "code",
   "execution_count": 43,
   "metadata": {},
   "outputs": [],
   "source": [
    "# Find the range of the variable\n",
    "def range_(x):\n",
    "    return x.max() - x.min()\n",
    "\n",
    "# Groupby idhogar (household id) and apply aggregation functions\n",
    "ind_to_drop = [\"Id\", \"Target\"]\n",
    "\n",
    "ind_agg = (\n",
    "    ind.drop(columns=ind_to_drop)\n",
    "    .groupby(\"idhogar\")\n",
    "    .agg([\"min\", \"max\", \"sum\", \"count\", \"std\", range_])\n",
    ")"
   ]
  },
  {
   "cell_type": "code",
   "execution_count": 44,
   "metadata": {},
   "outputs": [],
   "source": [
    "# Find the range of the variable\n",
    "def range_(x):\n",
    "    return x.max() - x.min()\n",
    "\n",
    "# Groupby idhogar (household id) and apply aggregation functions\n",
    "ind_to_drop = [\"Id\", \"Target\"]\n",
    "ind_agg = (\n",
    "    ind.drop(columns=ind_to_drop)\n",
    "    .groupby(\"idhogar\")\n",
    "    .agg([\"min\", \"max\", \"sum\", \"count\", \"std\", range_])\n",
    ")"
   ]
  },
  {
   "cell_type": "code",
   "execution_count": 45,
   "metadata": {},
   "outputs": [],
   "source": [
    "# Rename the columns\n",
    "new_col = []\n",
    "for c in ind_agg.columns.levels[0]:\n",
    "    for stat in ind_agg.columns.levels[1]:\n",
    "        new_col.append(f\"{c}-{stat}\")\n",
    "ind_agg.columns = new_col\n",
    "        "
   ]
  },
  {
   "cell_type": "code",
   "execution_count": 46,
   "metadata": {},
   "outputs": [],
   "source": [
    "# Aggregating individual-level variables to household-level: in order to incorporate \n",
    "# the individual data into the household data, we need to aggregate it for each household.\n",
    "# The simplest way to do this is to groupby the family id idhogar and then agg the data.\n",
    "# The overall strategy is to use a set of aggregation functions for each individual-level variable,\n",
    "# and then use model-based feature selection methods to filter the most predictive features.\n",
    "\n",
    "# Find the range of the variable\n",
    "def range_(x):\n",
    "    return x.max() - x.min()\n",
    "\n",
    "# Groupby idhogar (household id) and apply aggregation functions\n",
    "ind_to_drop = [\"Id\", \"Target\"]\n",
    "\n",
    "ind_agg = (\n",
    "    ind.drop(columns=ind_to_drop)\n",
    "    .groupby(\"idhogar\")\n",
    "    .agg([\"min\", \"max\", \"sum\", \"count\", \"std\", range_])\n",
    ")\n",
    "\n",
    "# Rename the columns\n",
    "new_col = []\n",
    "for c in ind_agg.columns.levels[0]:\n",
    "    for stat in ind_agg.columns.levels[1]:\n",
    "        new_col.append(f\"{c}-{stat}\")\n",
    "ind_agg.columns = new_col\n",
    "        \n",
    "# Select the aggregated features\n",
    "ind_agg = ind_agg.loc[:, config.processing.SELECTED_IND_AGGREGATED_FEATURES].copy()\n"
   ]
  },
  {
   "cell_type": "code",
   "execution_count": 47,
   "metadata": {},
   "outputs": [],
   "source": [
    "# Merge ind_agg back to the heads dataframe on the household id to get the final interim dataset.\n",
    "# Note that heads ONLY contains household-level variables, and only contains heads of households only as rows\n",
    "# and the ind_agg dataframe contains aggregated rows (each row is a household)\n",
    "df_merged = pd.merge(heads, ind_agg, on=\"idhogar\", how=\"left\")\n",
    "# Replace all - by _, and convert to small case\n",
    "df_merged.columns = df_merged.columns.str.replace(\"-\", \"_\").str.lower()"
   ]
  },
  {
   "cell_type": "code",
   "execution_count": 48,
   "metadata": {},
   "outputs": [],
   "source": [
    "# Post-processing: select features \n",
    "gold = df_merged.loc[:, config.model.SELECTED_FEATURES+['target']].copy()\n",
    "# binarize the target variable\n",
    "gold[\"target\"] = np.where(gold[\"target\"]<=2, 1, 0)\n",
    "# rename columns to those used in ptb_ltc\n",
    "gold = gold.rename(columns=config.model.SELECTED_FEATURES_RENAME_MAPPING)\n"
   ]
  },
  {
   "cell_type": "code",
   "execution_count": 49,
   "metadata": {},
   "outputs": [],
   "source": [
    "# Load the gold data\n",
    "gold.to_csv(Path('data','gold.csv'), index=False)"
   ]
  }
 ],
 "metadata": {
  "kernelspec": {
   "display_name": ".ltc_env",
   "language": "python",
   "name": "python3"
  },
  "language_info": {
   "codemirror_mode": {
    "name": "ipython",
    "version": 3
   },
   "file_extension": ".py",
   "mimetype": "text/x-python",
   "name": "python",
   "nbconvert_exporter": "python",
   "pygments_lexer": "ipython3",
   "version": "3.11.0"
  }
 },
 "nbformat": 4,
 "nbformat_minor": 2
}

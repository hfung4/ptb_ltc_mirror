{
 "cells": [
  {
   "cell_type": "code",
   "execution_count": 11,
   "metadata": {},
   "outputs": [],
   "source": [
    "import pandas as pd\n",
    "from pathlib import Path\n",
    "from ptb_ltc.config.core import config\n",
    "from ptb_ltc.processing.processing_utils import(\n",
    "    obj_to_cont,\n",
    "    data_preprocessing_silver\n",
    ")"
   ]
  },
  {
   "cell_type": "markdown",
   "metadata": {},
   "source": [
    "### ETL for silver data"
   ]
  },
  {
   "cell_type": "code",
   "execution_count": 12,
   "metadata": {},
   "outputs": [],
   "source": [
    "# Extract\n",
    "bronze = pd.read_csv(Path('data','bronze.csv'))"
   ]
  },
  {
   "cell_type": "code",
   "execution_count": 13,
   "metadata": {},
   "outputs": [],
   "source": [
    "# Transform\n",
    "silver = (bronze\n",
    "    # map yes/no to 1/0\n",
    "    .pipe(lambda _df: obj_to_cont(vars = [\"dependency\", \"edjefa\", \"edjefe\"], \n",
    "                                  df= _df, \n",
    "                                  mapping = {\"yes\": 1, \"no\": 0}))\n",
    "     # Handling missingness in v18q1 (number of tablets)\n",
    "     .assign(v18q1 = lambda _df: _df.v18q1.fillna(0))\n",
    "     # Handling missingness in v2a1 (monthly rent payment)\n",
    "     .assign(v2a1 = lambda _df: _df.v2a1.mask(_df.tipovivi1 == 1, 0))\n",
    "     # If individual is over 19 or younger than 7 and have NA rez_esc, we set it to 0\n",
    "     .assign(rez_esc=lambda _df: _df[\"rez_esc\"].mask(\n",
    "        ((_df[\"age\"] > 19) | (_df[\"age\"] < 7)) & (_df[\"rez_esc\"].isnull()), 0\n",
    "    ))\n",
    "    # From the variable description, the maximum value\n",
    "    # for rez_esc is 5. Therefore, any values above 5\n",
    "    # should be set to 5\n",
    "    .assign(rez_esc=lambda _df: _df['rez_esc'].clip(upper=5))\n",
    "    # Create missing flags for rez_esc and v2al\n",
    "    .assign(v2a1_missing = lambda _df: _df['v2a1'].isnull())\n",
    "    .assign(rez_esc_missing = lambda _df: _df['rez_esc'].isnull())\n",
    "    # Drop the squared variables\n",
    "    .drop(columns=config.processing.SQUARED_VARS)\n",
    ")\n",
    " "
   ]
  },
  {
   "cell_type": "code",
   "execution_count": 14,
   "metadata": {},
   "outputs": [],
   "source": [
    "# Load\n",
    "silver.to_csv(Path('data','silver.csv'), index=False)"
   ]
  }
 ],
 "metadata": {
  "kernelspec": {
   "display_name": ".ltc_env",
   "language": "python",
   "name": "python3"
  },
  "language_info": {
   "codemirror_mode": {
    "name": "ipython",
    "version": 3
   },
   "file_extension": ".py",
   "mimetype": "text/x-python",
   "name": "python",
   "nbconvert_exporter": "python",
   "pygments_lexer": "ipython3",
   "version": "3.11.0"
  }
 },
 "nbformat": 4,
 "nbformat_minor": 2
}
